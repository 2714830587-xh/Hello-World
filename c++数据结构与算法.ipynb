{
  "nbformat": 4,
  "nbformat_minor": 0,
  "metadata": {
    "colab": {
      "provenance": [],
      "authorship_tag": "ABX9TyPOAQ2roNLCy0dTI2HGqjoj",
      "include_colab_link": true
    },
    "kernelspec": {
      "name": "python3",
      "display_name": "Python 3"
    },
    "language_info": {
      "name": "python"
    }
  },
  "cells": [
    {
      "cell_type": "markdown",
      "metadata": {
        "id": "view-in-github",
        "colab_type": "text"
      },
      "source": [
        "<a href=\"https://colab.research.google.com/github/2714830587-xh/Hello-World/blob/master/c%2B%2B%E6%95%B0%E6%8D%AE%E7%BB%93%E6%9E%84%E4%B8%8E%E7%AE%97%E6%B3%95.ipynb\" target=\"_parent\"><img src=\"https://colab.research.google.com/assets/colab-badge.svg\" alt=\"Open In Colab\"/></a>"
      ]
    },
    {
      "cell_type": "markdown",
      "source": [
        "# 选择排序"
      ],
      "metadata": {
        "id": "6dXVVBMwp-Tn"
      }
    },
    {
      "cell_type": "code",
      "source": [
        "%%writefile selectsort.cpp\n",
        "#include<iostream>\n",
        "#include<vector>\n",
        "using namespace std;\n",
        "void selectsort(vector<int> &v);\n",
        "void swap(vector<int> &v,int i,int j);\n",
        "int main(void){\n",
        "  vector<int> v={1,4,3,2,5};\n",
        "  selectsort(v);\n",
        "  for(int i=0;i<v.size();i++){\n",
        "\t\tcout<<v[i]<<\" \";\n",
        "\t}\n",
        "\treturn 0;\n",
        "}\n",
        "void selectsort(vector<int> &v){\n",
        "  for(int i=0;i<v.size();i++){\n",
        "    int minindex=i;\n",
        "    for(int j=i+1;j<v.size();j++){\n",
        "      minindex=v[minindex]>v[j] ? j:minindex;\n",
        "    }\n",
        "    swap(v,i,minindex);\n",
        "  }\n",
        "}\n",
        "void swap(vector<int> &v,int i,int j){\n",
        "\tint temp;\n",
        "\ttemp=v[i];\n",
        "\tv[i]=v[j];\n",
        "\tv[j]=temp;\n",
        "}"
      ],
      "metadata": {
        "colab": {
          "base_uri": "https://localhost:8080/"
        },
        "id": "8_Xqr2zFqR0Q",
        "outputId": "cb24fe37-e64a-4fb9-ab0e-1c3b708c7417"
      },
      "execution_count": 17,
      "outputs": [
        {
          "output_type": "stream",
          "name": "stdout",
          "text": [
            "Overwriting selectsort.cpp\n"
          ]
        }
      ]
    },
    {
      "cell_type": "code",
      "source": [
        "%%script bash\n",
        "g++ selectsort.cpp -std=c++11\n",
        "./a.out"
      ],
      "metadata": {
        "colab": {
          "base_uri": "https://localhost:8080/"
        },
        "id": "8CnfzDTYsg6g",
        "outputId": "9ea11917-961a-4491-feb3-f61ca8cb3bb9"
      },
      "execution_count": 19,
      "outputs": [
        {
          "output_type": "stream",
          "name": "stdout",
          "text": [
            "a.out\n",
            "main.cpp\n",
            "sample_data\n",
            "selectsort.cpp\n"
          ]
        }
      ]
    },
    {
      "cell_type": "markdown",
      "source": [
        "# 冒泡排序"
      ],
      "metadata": {
        "id": "f9Vpl65ztUAw"
      }
    },
    {
      "cell_type": "code",
      "execution_count": 20,
      "metadata": {
        "colab": {
          "base_uri": "https://localhost:8080/"
        },
        "id": "K7R6bVnpph0v",
        "outputId": "53841645-26d8-41c7-ddc5-b625b33cd7ca"
      },
      "outputs": [
        {
          "output_type": "stream",
          "name": "stdout",
          "text": [
            "Writing bubblesort.cpp\n"
          ]
        }
      ],
      "source": [
        "%%writefile bubblesort.cpp\n",
        "#include <iostream>\n",
        "#include<vector>\n",
        "using namespace std;\n",
        "void swap(vector<int> &v,int i,int j);\n",
        "void bubblesort(vector<int> &v);\n",
        "int main(void){\n",
        "\tvector<int> v={2,3,5,6,1,9,10};\n",
        "\tbubblesort(v);\n",
        "\tfor(int i=0;i<v.size();i++){\n",
        "\t\tcout<<v[i]<<\" \";\n",
        "\t}\n",
        "\treturn 0;\n",
        "}\n",
        "void bubblesort(vector<int> &v){\n",
        "\tfor(int i=v.size()-1;i>0;i--){\n",
        "\t\tfor(int j=0;j<i;j++){\n",
        "\t\t\tif(v[j]>v[j+1]){\n",
        "\t\t\t\tswap(v,j,j+1);\n",
        "\t\t\t}\n",
        "\t\t}\n",
        "\t}\n",
        "}\n",
        "void swap(vector<int> &v,int i,int j){\n",
        "\tint temp;\n",
        "\ttemp=v[i];\n",
        "\tv[i]=v[j];\n",
        "\tv[j]=temp;\n",
        "}"
      ]
    },
    {
      "cell_type": "code",
      "source": [
        "%%script bash\n",
        "g++ bubblesort.cpp -std=c++11\n",
        "./a.out"
      ],
      "metadata": {
        "colab": {
          "base_uri": "https://localhost:8080/"
        },
        "id": "kWJiBCsPpt--",
        "outputId": "cbdb0553-c554-4d45-9219-2672088415a1"
      },
      "execution_count": 21,
      "outputs": [
        {
          "output_type": "stream",
          "name": "stdout",
          "text": [
            "1 2 3 5 6 9 10 "
          ]
        }
      ]
    }
  ]
}